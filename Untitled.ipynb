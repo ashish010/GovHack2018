{
 "cells": [
  {
   "cell_type": "markdown",
   "metadata": {},
   "source": [
    "Getting the age group for people of Oakleigh south"
   ]
  },
  {
   "cell_type": "code",
   "execution_count": 237,
   "metadata": {},
   "outputs": [
    {
     "name": "stdout",
     "output_type": "stream",
     "text": [
      "                            Age   Population\n",
      "0     2012 ERP age 0-4, persons   558.000000\n",
      "1           2012 ERP age 0-4, %     5.790184\n",
      "2     2012 ERP age 5-9, persons   505.000000\n",
      "3           2012 ERP age 5-9, %     5.240220\n",
      "4   2012 ERP age 10-14, persons   429.000000\n",
      "5         2012 ERP age 10-14, %     4.451593\n",
      "6   2012 ERP age 15-19, persons   560.000000\n",
      "7         2012 ERP age 15-19, %     5.810937\n",
      "8   2012 ERP age 20-24, persons   703.000000\n",
      "9         2012 ERP age 20-24, %     7.294801\n",
      "10  2012 ERP age 25-44, persons  2804.000000\n",
      "11        2012 ERP age 25-44, %    29.096192\n",
      "12  2012 ERP age 45-64, persons  2446.000000\n",
      "13        2012 ERP age 45-64, %    25.381343\n",
      "14  2012 ERP age 65-69, persons   503.000000\n",
      "15        2012 ERP age 65-69, %     5.219467\n",
      "16  2012 ERP age 70-74, persons   371.000000\n",
      "17        2012 ERP age 70-74, %     3.849746\n",
      "18  2012 ERP age 75-79, persons   263.000000\n",
      "19        2012 ERP age 75-79, %     2.729065\n",
      "20  2012 ERP age 80-84, persons   285.000000\n",
      "21        2012 ERP age 80-84, %     2.957352\n",
      "22    2012 ERP age 85+, persons   210.000000\n",
      "23          2012 ERP age 85+, %     2.179101\n",
      "24              2012 ERP, total  9637.000000\n",
      "{'0-4 ': 558.0, '5-9 ': 505.0, '10-14 ': 429.0, '15-19 ': 560.0, '20-24 ': 703.0, '25-44 ': 2804.0, '45-64 ': 2446.0, '65-69 ': 503.0, '70-74 ': 371.0, '75-79 ': 263.0, '80-84 ': 285.0, '85+ ': 210.0}\n"
     ]
    }
   ],
   "source": [
    "import numpy as np\n",
    "import pandas as pd\n",
    "\n",
    "data = pd.read_excel(\"oakAge.xlsx\")\n",
    "print (data)\n",
    "\n",
    "class_label = pd.DataFrame(data.iloc[:,-0])\n",
    "\n",
    "ageGroup = []\n",
    "ageGroupString = \"\"\n",
    "age = np.array(class_label)\n",
    "for i in age[0:len(age)-1]:\n",
    "    for val in i:\n",
    "        a = val.split(\" \")\n",
    "        b = str(a[3]).split(\",\")\n",
    "        ageGroupString = str(b[0])\n",
    "        ageGroup.append(str(ageGroupString+\" \"))\n",
    "\n",
    "age = ageGroup[0::2]\n",
    "\n",
    "class_label = pd.DataFrame (data.iloc[:, -1])\n",
    "a = np.array(class_label[0::2])\n",
    "pop = (np.array(A))\n",
    "population = []\n",
    "for i in pop:\n",
    "    for p in i:\n",
    "        population.append(p)\n",
    "    \n",
    "\n",
    "dictionary = dict(zip(age, population[0:]))\n",
    "print (dictionary)\n",
    "\n",
    "with open('ageGroup in Oakleigh.csv', 'w') as f:\n",
    "    [f.write('{0},{1}\\n'.format(key, value)) for key, value in dictionary.items()]"
   ]
  },
  {
   "cell_type": "code",
   "execution_count": 311,
   "metadata": {},
   "outputs": [
    {
     "name": "stdout",
     "output_type": "stream",
     "text": [
      "['Number', 257, 131, 84, 33, 9, 497, 182, 315, 150, 10, 44, 18, 42, 12, 14, 4, 3, 3, 133, 62, 15, 53, 3, 121, 23, 21, 60, 17, 642, 597, 23, 22, 308, 305, 2, 365, 101, 9, 37, 3, 14, 2, 13, 1, 1, '—', 3, 145, 13, 7, 2, 3, '—', 10, 61, 2, '—', 3, 4, '—', 22, 31, 10, 1, 2544]\n",
      "5078\n",
      "['Number', 158, 55, 78, 19, 6, 456, 111, 345, 99, 9, 26, 14, 20, 11, 10, 4, 3, 2, 67, 23, 7, 33, 4, 95, 24, 12, 50, 8, 74, 70, '—', 5, 403, 401, 1, 852, 344, 2, 39, 2, 18, 41, 18, 2, 41, 75, 13, 206, 13, 6, 11, 9, 5, 9, 84, '—', 1, 6, 4, 7, 12, 54, 12, '—', 2299]\n",
      "4589\n",
      "Number of people with cancer in Oakleigh: 10\n"
     ]
    }
   ],
   "source": [
    "diseaseDataMales = pd.read_excel(\"oakDisease_M.xlsx\")\n",
    "diseaseDataFemales = pd.read_excel (\"oakDisease_F.xlsx\")\n",
    "\n",
    "diseaseDataMales.head()\n",
    "diseaseDataFemales.head()\n",
    "#for males\n",
    "\n",
    "M =list(diseaseData[\"Males\"])\n",
    "sum_M = 0\n",
    "print (M)\n",
    "for i in M[0:len(M)-1]:\n",
    "    try:\n",
    "        sum_M = int(i) + sum_M\n",
    "    except:\n",
    "        sum_M = sum_M +0\n",
    "        \n",
    "print (sum_M)\n",
    "\n",
    "F = list (diseaseData[\"Females\"])\n",
    "sum_F = 0 \n",
    "print (F)\n",
    "for i in F[0:len(F)-1]:\n",
    "    try:\n",
    "        sum_F = int(i) + sum_F\n",
    "    except:\n",
    "        sum_F = sum_F+0\n",
    "        \n",
    "print (sum_F)\n",
    "\n",
    "#population of Oakleigh is around 10000\n",
    "import math\n",
    "print (\"Number of people with cancer in Oakleigh: {}\".format(math.ceil((sum_M+sum_F)/1000)))\n"
   ]
  },
  {
   "cell_type": "code",
   "execution_count": 330,
   "metadata": {},
   "outputs": [
    {
     "name": "stdout",
     "output_type": "stream",
     "text": [
      "{nan: nan, 'Males': 13.1, 'Females': 9.8, 'Persons': 11.5, '(a)          Age-standardised to the 2001 Australian population.': nan, 'Source: National (insulin-treated) Diabetes Register 2013.': nan}\n",
      "Number of people with Diabetes (Insulin treated ): 24\n"
     ]
    }
   ],
   "source": [
    "diabetes = pd.read_excel (\"oak_Diabetes.xlsx\")\n",
    "diabetes.head()\n",
    "dictionary = dict(zip(diabetes[\"Sex\"], diabetes[\"Vic\"]))\n",
    "print (dictionary)\n",
    "\n",
    "print (\"Number of people with Diabetes (Insulin treated ): {}\".format(math.ceil(dictionary['Males'])+math.ceil(dictionary['Females'])))"
   ]
  },
  {
   "cell_type": "code",
   "execution_count": null,
   "metadata": {},
   "outputs": [],
   "source": [
    " "
   ]
  }
 ],
 "metadata": {
  "kernelspec": {
   "display_name": "Python 3",
   "language": "python",
   "name": "python3"
  },
  "language_info": {
   "codemirror_mode": {
    "name": "ipython",
    "version": 3
   },
   "file_extension": ".py",
   "mimetype": "text/x-python",
   "name": "python",
   "nbconvert_exporter": "python",
   "pygments_lexer": "ipython3",
   "version": "3.6.4"
  }
 },
 "nbformat": 4,
 "nbformat_minor": 2
}
